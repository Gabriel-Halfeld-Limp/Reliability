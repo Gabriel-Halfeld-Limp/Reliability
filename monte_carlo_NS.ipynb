{
 "cells": [
  {
   "cell_type": "markdown",
   "metadata": {},
   "source": [
    "# MONTE CARLO NÃO-SEQUENCIAL"
   ]
  },
  {
   "cell_type": "markdown",
   "metadata": {},
   "source": [
    "## IMPORTAÇÃO DE BIBLIOTECAS"
   ]
  },
  {
   "cell_type": "code",
   "execution_count": 14,
   "metadata": {},
   "outputs": [],
   "source": [
    "from pyomo.environ import *\n",
    "import pandas as pd\n",
    "import numpy as np\n",
    "from data_processing import load_all_data\n",
    "from calcula_fpo import calcular_fpo"
   ]
  },
  {
   "cell_type": "markdown",
   "metadata": {},
   "source": [
    "## LEITURA DE DADOS"
   ]
  },
  {
   "cell_type": "code",
   "execution_count": 5,
   "metadata": {},
   "outputs": [],
   "source": [
    "data = load_all_data()\n",
    "D_GEN = data['D_GEN']\n",
    "D_LIN = data['D_LIN']\n",
    "D_LOAD = data['D_LOAD']\n"
   ]
  },
  {
   "cell_type": "code",
   "execution_count": 6,
   "metadata": {},
   "outputs": [],
   "source": [
    "#Deixando os dados em horas e nos formatos conhecidos\n",
    "D_GEN['Lambda'] = D_GEN['Falhas/ano'] / 8760 # 8760 horas em um ano\n",
    "D_GEN['MTTF'] = 1/D_GEN['Lambda'] #Tempo médio entre falhas\n",
    "D_GEN['mu'] = 1/D_GEN['Tempo de reparo(h)'] #Taxa de reparo/hora\n",
    "D_GEN['A'] = D_GEN['mu']/(D_GEN['mu'] + D_GEN['Lambda']) #Disponibilidade\n",
    "D_GEN['U'] = 1 - D_GEN['A'] #Indisponibilidade"
   ]
  },
  {
   "cell_type": "code",
   "execution_count": 8,
   "metadata": {},
   "outputs": [],
   "source": [
    "D_LIN['Lambda'] = D_LIN['Falhas/(ano.milha)'] * D_LIN['Comprimento'] / 8760\n",
    "D_LIN['MTTF'] = 1 / D_LIN['Lambda']\n",
    "D_LIN['mu'] = 1 / D_LIN['Tempo de Reparo'] #Taxa de reparo/hora\n",
    "D_LIN['A'] = D_LIN['mu'] / (D_LIN['mu'] + D_LIN['Lambda']) #Disponibilidade\n",
    "D_LIN['U'] = 1 - D_LIN['A'] #Indisponibilidade"
   ]
  },
  {
   "cell_type": "code",
   "execution_count": 9,
   "metadata": {},
   "outputs": [],
   "source": [
    "Ng = len(D_GEN)\n",
    "geradores = np.arange(1,Ng+1)\n",
    "Nl = len(D_LIN)\n",
    "linhas = np.arange(1,Nl+1)\n",
    "Nc = len(D_LOAD)\n",
    "cargas = np.arange(1,Nc+1)"
   ]
  },
  {
   "cell_type": "code",
   "execution_count": 12,
   "metadata": {},
   "outputs": [],
   "source": [
    "#Funções Auxiliares:\n",
    "def sortear_tempo_falha(mttf):\n",
    "    return np.random.exponential(mttf)\n",
    "\n",
    "def sortear_tempo_reparo(mttr):\n",
    "    return np.random.exponential(mttr)\n",
    "\n",
    "def inicializar_componentes(D_GEN, D_LIN):\n",
    "    # Inicializar componentes, 1=operando, 0=falha\n",
    "    estados_ger = np.ones(len(D_GEN))\n",
    "    estados_lin = np.ones(len(D_LIN))\n",
    "\n",
    "    #Sortear o tempo de falha para cada componente\n",
    "    tempos_gen = [sortear_tempo_falha(mttf) for mttf in D_GEN['MTTF']]\n",
    "    tempos_lin = [sortear_tempo_falha(mttf) for mttf in D_LIN['MTTF']]\n",
    "\n",
    "    return estados_ger, estados_lin, tempos_gen, tempos_lin\n"
   ]
  },
  {
   "cell_type": "code",
   "execution_count": 13,
   "metadata": {},
   "outputs": [],
   "source": [
    "#Parâmetros principais:\n",
    "tol = 0.01 #Tolerância para  o critério de parada\n",
    "NY_MAX = 100 #Máximo número de anos para simular\n",
    "NY = 0 #Contador de anos\n",
    "\n",
    "#Inicializando Índices\n",
    "F_LOLE = 0\n",
    "F_EENS = 0\n",
    "F_LOLF = 0\n",
    "F_LOLD = 0"
   ]
  },
  {
   "cell_type": "code",
   "execution_count": null,
   "metadata": {},
   "outputs": [],
   "source": [
    "#Algoritmo de Monte Carlo Sequencial:\n",
    "while NY < NY_MAX:\n",
    "    NY = NY + 1\n",
    "    TSIS = 0 #Inicializa o tempo acumulado do sistema\n",
    "\n",
    "    #Inicializa os estados e tempos de residência:\n",
    "    estados_gen, estados_lin, tempos_gen, tempos_lin = inicializar_componentes(D_GEN, D_LIN)\n",
    "    TG = tempos_gen + tempos_lin  # Tempos globais de residência (falha ou reparo)\n",
    "\n",
    "    while TSIS < 8760:\n",
    "        # Determina o componente com o menor tempo de residência (falha ou recuperação)\n",
    "        TGi = min(TG)\n",
    "        if TGi > 8760:\n",
    "            TGi = 8760\n",
    "        \n",
    "        TDUR = TGi - TSIS # Tempo de duração do estado atual\n",
    "        TSIS = TGi # Atualiza o tempo acumulado do sistema\n",
    "\n",
    "        #Atualiza o impacto do estado atual nos índies de confiabilidade\n",
    "        z_ger = estados_gen\n",
    "        z_lin =  estados_lin\n",
    "\n",
    "        #Calcula o FPO\n",
    "        carga_cortada = calcular_fpo(z_ger, z_lin)\n",
    "\n",
    "        if carga_cortada > 0:\n",
    "            F_LOLE += TDUR #Tempo de perda de carga (LOLE)\n",
    "            F_EENS += carga_cortada * TDUR #Energia não fornecida (EENS)\n",
    "            F_LOLF += 1 #Frequência de corte de carga (LOLF)\n",
    "        \n",
    "        \n",
    "\n"
   ]
  },
  {
   "cell_type": "code",
   "execution_count": null,
   "metadata": {},
   "outputs": [],
   "source": [
    "####Definir os Z's de acordo com o problema!"
   ]
  },
  {
   "cell_type": "markdown",
   "metadata": {},
   "source": [
    "## FPO"
   ]
  },
  {
   "cell_type": "code",
   "execution_count": 40,
   "metadata": {},
   "outputs": [],
   "source": [
    "#Criando modelo Concreto:\n",
    "model = ConcreteModel()"
   ]
  },
  {
   "cell_type": "code",
   "execution_count": null,
   "metadata": {},
   "outputs": [],
   "source": [
    "#Criando Sets do Problema:\n",
    "model.ger = RangeSet(Ng) #Geradores\n",
    "model.line = RangeSet(Nl) #Linhas\n",
    "model.carga = RangeSet(Nc) #Cargas\n",
    "model.bus = RangeSet(6) #Barras"
   ]
  },
  {
   "cell_type": "code",
   "execution_count": 42,
   "metadata": {},
   "outputs": [],
   "source": [
    "#Parâmtro das Cargas:\n",
    "model.p_carga = Param(model.carga,initialize={cargas[i]: D_LOAD.loc[i, 'Carga'] for i in range(len(cargas))})\n",
    "model.carga_bus = Param(model.carga,initialize={cargas[i]: D_LOAD.loc[i, 'Barra'] for i in range(len(cargas))})\n",
    "\n",
    "#Parâmtros das Linhas:\n",
    "model.barra_de = Param(model.line,initialize={linhas[i]: D_LIN.loc[i, 'Barra De'] for i in range(len(linhas))})\n",
    "model.barra_para = Param(model.line,initialize={linhas[i]: D_LIN.loc[i, 'Barra Para'] for i in range(len(linhas))})\n",
    "model.x = Param(model.line,initialize={linhas[i]: D_LIN.loc[i, 'Reatância'] for i in range(len(linhas))})\n",
    "model.flux_max = Param(model.line,initialize={linhas[i]: D_LIN.loc[i, 'Capacidade'] for i in range(len(linhas))})\n",
    "\n",
    "#Parâmetros dos Geradores:\n",
    "model.ger_bus = Param(model.ger,initialize={geradores[i]: D_GEN.loc[i, 'Barra'] for i in range(len(geradores))})\n",
    "model.ger_max = Param(model.ger,initialize={geradores[i]: D_GEN.loc[i, 'Cap Ind'] for i in range(len(geradores))})\n"
   ]
  },
  {
   "cell_type": "code",
   "execution_count": null,
   "metadata": {},
   "outputs": [],
   "source": [
    "#Parâmetros binários que representam o estado do componente: 0:down e 1:up\n",
    "model.z_ger = Param(model.ger, initialize={geradores[i]: z_ger[i] for i in range(len(geradores))})\n",
    "model.z_line = Param(model.line, initialize={linhas[i]: z_line[i] for i in range(len(linhas))})"
   ]
  },
  {
   "cell_type": "code",
   "execution_count": 43,
   "metadata": {},
   "outputs": [],
   "source": [
    "#Variáveis:\n",
    "model.pd = Var(model.carga, domain=NonNegativeReals) #Variável de corte de carga\n",
    "model.pg = Var(model.ger, domain=NonNegativeReals) #Variável de geração\n",
    "model.theta = Var(model.bus, bounds=(-np.pi, np.pi), domain=Reals) #Variável de ângulo nas barras\n",
    "model.flux = Var(model.line, domain=Reals) #Variável de fluxo, opcional mas facilita a implementação"
   ]
  },
  {
   "cell_type": "code",
   "execution_count": 44,
   "metadata": {},
   "outputs": [],
   "source": [
    "#Restrições:\n",
    "#Balanço de Potência nas Barras\n",
    "def balance_power_rule(model, barra):\n",
    "    PG = sum(model.pg[ger] for ger in model.ger if model.ger_bus[ger] == barra)\n",
    "    PL = sum(model.p_carga[car] for car in model.carga if model.carga_bus[car] == barra)\n",
    "    fluxo_sum = 0\n",
    "    for line in model.line:\n",
    "        if model.barra_de[line] == barra:\n",
    "            fluxo_sum += model.flux[line]\n",
    "        elif model.barra_para[line] == barra:\n",
    "            fluxo_sum -= model.flux[line]\n",
    "    PD = sum(model.pd[carga] for carga in model.carga if model.carga_bus[carga] == barra)\n",
    "    return PG + PD - fluxo_sum - PL == 0\n",
    "model.balance_power = Constraint(model.bus, rule=balance_power_rule)"
   ]
  },
  {
   "cell_type": "code",
   "execution_count": null,
   "metadata": {},
   "outputs": [],
   "source": [
    "#Restrição de igualdade em que se define a geração:\n",
    "def ger_rule(model, ger):\n",
    "    geracao = model.ger_max[ger]*model.z_ger[ger]\n",
    "    return model.pg[ger] == geracao\n",
    "model.ger_rule = Constraint(model.ger, rule=ger_rule)"
   ]
  },
  {
   "cell_type": "code",
   "execution_count": null,
   "metadata": {},
   "outputs": [],
   "source": [
    "#Restrição de igualdade em que se define os fluxos nas linhas:\n",
    "def flow_rule(model, line):\n",
    "    bus1 = model.barra_de[line]\n",
    "    bus2 = model.barra_para[line]\n",
    "    flux = (model.theta[bus1] - model.theta[bus2]) / model.x[line]\n",
    "    return model.flux[line] == flux\n",
    "model.flow_rule = Constraint(model.line, rule=flow_rule)\n",
    "\n",
    "#Limites de Fluxo nas Linhas:\n",
    "def flow_limit_rule(model, line):\n",
    "    limite = model.flux_max[line]*model.z_line[line]\n",
    "    return (-limite, model.flux[line], limite)\n",
    "model.flow_limit = Constraint(model.line, rule=flow_limit_rule)"
   ]
  },
  {
   "cell_type": "code",
   "execution_count": 45,
   "metadata": {},
   "outputs": [],
   "source": [
    "#Limita o corte ao valor da carga:\n",
    "def load_shed_limit_rule(model, carga):\n",
    "    return model.pd[carga] <= model.p_carga[carga]\n",
    "model.shed_limit = Constraint(model.carga, rule=load_shed_limit_rule)"
   ]
  },
  {
   "cell_type": "code",
   "execution_count": 46,
   "metadata": {},
   "outputs": [],
   "source": [
    "#Função Objetivo: Menor perda de carga possível:\n",
    "def objective_function(model):\n",
    "    PD_sum = sum(model.pd[carga] for carga in model.carga)\n",
    "    return PD_sum\n",
    "model.objective = Objective(rule=objective_function, sense=minimize)"
   ]
  }
 ],
 "metadata": {
  "kernelspec": {
   "display_name": ".venv",
   "language": "python",
   "name": "python3"
  },
  "language_info": {
   "codemirror_mode": {
    "name": "ipython",
    "version": 3
   },
   "file_extension": ".py",
   "mimetype": "text/x-python",
   "name": "python",
   "nbconvert_exporter": "python",
   "pygments_lexer": "ipython3",
   "version": "3.13.0"
  }
 },
 "nbformat": 4,
 "nbformat_minor": 2
}
