{
 "cells": [
  {
   "cell_type": "code",
   "execution_count": 37,
   "metadata": {},
   "outputs": [],
   "source": [
    "from pyomo.environ import *\n",
    "import pandas as pd\n",
    "import numpy as np\n",
    "from data_processing import load_all_data"
   ]
  },
  {
   "cell_type": "markdown",
   "metadata": {},
   "source": [
    "#IMPORTAÇÃO DE DADOS:"
   ]
  },
  {
   "cell_type": "code",
   "execution_count": 84,
   "metadata": {},
   "outputs": [],
   "source": [
    "data = load_all_data()\n",
    "D_GEN = data['D_GEN']\n",
    "D_LIN = data['D_LIN']\n",
    "D_LOAD = data['D_LOAD']\n"
   ]
  },
  {
   "cell_type": "code",
   "execution_count": 85,
   "metadata": {},
   "outputs": [],
   "source": [
    "#Deixando os dados em horas e nos formatos conhecidos\n",
    "D_GEN['Lambda'] = D_GEN['Falhas/ano'] / 8760 # 8760 horas em um ano\n",
    "D_GEN['MTTF'] = 1/D_GEN['Lambda'] #Tempo médio entre falhas\n",
    "D_GEN['mu'] = 1/D_GEN['Tempo de reparo(h)'] #Taxa de reparo/hora\n",
    "D_GEN['A'] = D_GEN['mu']/(D_GEN['mu'] + D_GEN['Lambda']) #Disponibilidade\n",
    "D_GEN['U'] = 1 - D_GEN['A'] #Indisponibilidade"
   ]
  },
  {
   "cell_type": "code",
   "execution_count": 86,
   "metadata": {},
   "outputs": [
    {
     "name": "stdout",
     "output_type": "stream",
     "text": [
      "[1 2 3 4 5 6]\n"
     ]
    }
   ],
   "source": [
    "Ng = len(D_GEN)\n",
    "geradores = np.arange(1,Ng+1)\n",
    "Nl = len(D_LIN)\n",
    "linhas = np.arange(1,Nl+1)\n",
    "Nc = len(D_LOAD)\n",
    "cargas = np.arange(1,Nc+1)\n",
    "print(cargas)"
   ]
  },
  {
   "cell_type": "code",
   "execution_count": 111,
   "metadata": {},
   "outputs": [],
   "source": [
    "#Criando modelo Concreto:\n",
    "model = ConcreteModel()"
   ]
  },
  {
   "cell_type": "code",
   "execution_count": 112,
   "metadata": {},
   "outputs": [],
   "source": [
    "#Criando Sets do Problema:\n",
    "model.ger = RangeSet(Ng) #Geradores\n",
    "model.line = RangeSet(Nl) #Linhas\n",
    "model.carga = RangeSet(Nc) #Cargas\n",
    "model.bus = RangeSet(6) #Barras"
   ]
  },
  {
   "cell_type": "code",
   "execution_count": 113,
   "metadata": {},
   "outputs": [],
   "source": [
    "#Parâmtro das Cargas:\n",
    "model.p_carga = Param(model.carga,initialize={cargas[i]: D_LOAD.loc[i, 'Carga'] for i in range(len(cargas))})\n",
    "model.carga_bus = Param(model.carga,initialize={cargas[i]: D_LOAD.loc[i, 'Barra'] for i in range(len(cargas))})\n",
    "\n",
    "#Parâmtros das Linhas:\n",
    "model.barra_de = Param(model.line,initialize={linhas[i]: D_LIN.loc[i, 'Barra De'] for i in range(len(linhas))})\n",
    "model.barra_para = Param(model.line,initialize={linhas[i]: D_LIN.loc[i, 'Barra Para'] for i in range(len(linhas))})\n",
    "model.x = Param(model.line,initialize={linhas[i]: D_LIN.loc[i, 'Reatância'] for i in range(len(linhas))})\n",
    "model.flux_max = Param(model.line,initialize={linhas[i]: D_LIN.loc[i, 'Capacidade'] for i in range(len(linhas))})\n",
    "\n",
    "#Parâmetros dos Geradores:\n",
    "model.ger_bus = Param(model.ger,initialize={geradores[i]: D_GEN.loc[i, 'Barra'] for i in range(len(geradores))})"
   ]
  },
  {
   "cell_type": "code",
   "execution_count": 120,
   "metadata": {},
   "outputs": [
    {
     "name": "stdout",
     "output_type": "stream",
     "text": [
      "WARNING: Implicitly replacing the Component attribute pg (type=<class\n",
      "'pyomo.core.base.var.IndexedVar'>) on block unknown with a new Component\n",
      "(type=<class 'pyomo.core.base.var.IndexedVar'>). This is usually indicative of\n",
      "a modelling error. To avoid this warning, use block.del_component() and\n",
      "block.add_component().\n",
      "WARNING: Implicitly replacing the Component attribute pd (type=<class\n",
      "'pyomo.core.base.var.IndexedVar'>) on block unknown with a new Component\n",
      "(type=<class 'pyomo.core.base.var.IndexedVar'>). This is usually indicative of\n",
      "a modelling error. To avoid this warning, use block.del_component() and\n",
      "block.add_component().\n",
      "WARNING: Implicitly replacing the Component attribute theta (type=<class\n",
      "'pyomo.core.base.var.IndexedVar'>) on block unknown with a new Component\n",
      "(type=<class 'pyomo.core.base.var.IndexedVar'>). This is usually indicative of\n",
      "a modelling error. To avoid this warning, use block.del_component() and\n",
      "block.add_component().\n"
     ]
    }
   ],
   "source": [
    "#Variáveis:\n",
    "model.pg = Var(model.ger, domain=NonNegativeReals)\n",
    "model.pd = Var(model.carga, domain=NonNegativeReals)\n",
    "model.theta = Var(model.bus, bounds=(-np.pi, np.pi), domain=Reals)"
   ]
  },
  {
   "cell_type": "code",
   "execution_count": null,
   "metadata": {},
   "outputs": [],
   "source": [
    "#Restrições:\n",
    "#Balanço de Potência nas Barras\n",
    "def balance_power_rule(model, barra):\n",
    "    PG = sum(model.pg[ger] for ger in model.ger if model.ger_bus[ger] == barra)\n",
    "    PL = sum(model.p_carga[car] for car in model.carga if model.carga_bus[car] == barra)\n",
    "    fluxo = 0\n",
    "    for line in model.line:\n",
    "        if model.barra_de[line] == barra:\n",
    "            fluxo += (model.theta[barra] - model.theta[model.barra_para[line]]) / model.x[line]\n",
    "        elif model.barra_para[line] == barra:\n",
    "            fluxo += (model.theta[barra] - model.theta[model.barra_de[line]]) / model.x[line]\n",
    "    PD = sum(model.pd[carga] for carga in model.carga if model.carga_bus[carga] == barra)\n",
    "    return PG + PD + fluxo - PL == 0\n",
    "model.balance_power = Constraint(model.bus, rule=balance_power_rule)"
   ]
  },
  {
   "cell_type": "code",
   "execution_count": 117,
   "metadata": {},
   "outputs": [],
   "source": [
    "#Limites Térmicos das Linhas:\n",
    "def flow_limit_rule(model, line):\n",
    "    bus1 = model.barra_de[line]\n",
    "    bus2 = model.barra_para[line]\n",
    "    flux = (model.theta[bus1] - model.theta[bus2]) / model.x[line]\n",
    "    return flux <= model.flux_max[line]\n",
    "model.flow_limit = Constraint(model.line, rule=flow_limit_rule)\n"
   ]
  },
  {
   "cell_type": "code",
   "execution_count": 119,
   "metadata": {},
   "outputs": [],
   "source": [
    "#Limita o corte ao valor da carga:\n",
    "def load_shed_limit_rule(model, carga):\n",
    "    return model.pd[carga] <= model.p_carga[carga]\n",
    "model.shed_limit = Constraint(model.carga, rule=load_shed_limit_rule)"
   ]
  },
  {
   "cell_type": "code",
   "execution_count": 121,
   "metadata": {},
   "outputs": [],
   "source": [
    "#Função Objetivo: Menor perda de carga possível:\n",
    "def objective_function(model):\n",
    "    PD_sum = sum(model.pd[carga] for carga in model.carga)\n",
    "    return PD_sum\n",
    "model.objective = Objective(rule=objective_function, sense=minimize)"
   ]
  }
 ],
 "metadata": {
  "kernelspec": {
   "display_name": ".venv",
   "language": "python",
   "name": "python3"
  },
  "language_info": {
   "codemirror_mode": {
    "name": "ipython",
    "version": 3
   },
   "file_extension": ".py",
   "mimetype": "text/x-python",
   "name": "python",
   "nbconvert_exporter": "python",
   "pygments_lexer": "ipython3",
   "version": "3.13.0"
  }
 },
 "nbformat": 4,
 "nbformat_minor": 2
}
