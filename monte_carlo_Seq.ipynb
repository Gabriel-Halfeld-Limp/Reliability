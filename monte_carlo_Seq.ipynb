{
 "cells": [
  {
   "cell_type": "markdown",
   "metadata": {},
   "source": [
    "# MONTE CARLO SEQUENCIAL"
   ]
  },
  {
   "cell_type": "markdown",
   "metadata": {},
   "source": [
    "## IMPORTAÇÃO DE BIBLIOTECAS"
   ]
  },
  {
   "cell_type": "code",
   "execution_count": 1,
   "metadata": {},
   "outputs": [
    {
     "name": "stdout",
     "output_type": "stream",
     "text": [
      "0.0\n"
     ]
    }
   ],
   "source": [
    "from pyomo.environ import *\n",
    "import pandas as pd\n",
    "import numpy as np\n",
    "from data_processing import load_all_data\n",
    "from calcula_fpo import calcular_fpo"
   ]
  },
  {
   "cell_type": "markdown",
   "metadata": {},
   "source": [
    "## LEITURA DE DADOS"
   ]
  },
  {
   "cell_type": "code",
   "execution_count": 2,
   "metadata": {},
   "outputs": [],
   "source": [
    "data = load_all_data()\n",
    "D_GEN = data['D_GEN']\n",
    "D_LIN = data['D_LIN']\n",
    "D_LOAD = data['D_LOAD']"
   ]
  },
  {
   "cell_type": "code",
   "execution_count": 3,
   "metadata": {},
   "outputs": [],
   "source": [
    "#Deixando os dados em horas e nos formatos conhecidos\n",
    "#Dados de Linha\n",
    "D_GEN['Lambda'] = D_GEN['Falhas/ano'] / 8760 # 8760 horas em um ano\n",
    "D_GEN['MTTF'] = 1/D_GEN['Lambda'] #Tempo médio entre falhas\n",
    "D_GEN['mu'] = 1/D_GEN['Tempo de reparo(h)'] #Taxa de reparo/hora\n",
    "D_GEN['A'] = D_GEN['mu']/(D_GEN['mu'] + D_GEN['Lambda']) #Disponibilidade\n",
    "D_GEN['U'] = 1 - D_GEN['A'] #Indisponibilidade\n",
    "\n",
    "#Dados de Linha\n",
    "D_LIN['Lambda'] = D_LIN['Falhas/(ano.milha)'] * D_LIN['Comprimento'] / 8760 # 8760 horas em um ano\n",
    "D_LIN['MTTF'] = 1 / D_LIN['Lambda'] #Tempo médio entre falhas\n",
    "D_LIN['mu'] = 1 / D_LIN['Tempo de Reparo'] #Taxa de reparo/hora\n",
    "D_LIN['A'] = D_LIN['mu'] / (D_LIN['mu'] + D_LIN['Lambda']) #Disponibilidade\n",
    "D_LIN['U'] = 1 - D_LIN['A'] #Indisponibilidade"
   ]
  },
  {
   "cell_type": "code",
   "execution_count": 4,
   "metadata": {},
   "outputs": [],
   "source": [
    "Ng = len(D_GEN)\n",
    "geradores = np.arange(1,Ng+1)\n",
    "Nl = len(D_LIN)\n",
    "linhas = np.arange(1,Nl+1)\n",
    "Nc = len(D_LOAD)\n",
    "cargas = np.arange(1,Nc+1)"
   ]
  },
  {
   "cell_type": "markdown",
   "metadata": {},
   "source": [
    "## FUNÇÕES AUXILIARES"
   ]
  },
  {
   "cell_type": "code",
   "execution_count": 5,
   "metadata": {},
   "outputs": [],
   "source": [
    "# Função de cálculo do tempo de residência (TR)\n",
    "def sortear_tempo_residencia(taxa):\n",
    "    return float(np.random.exponential(1 / taxa))\n",
    "\n",
    "def calcular_estatisticas(resultados):\n",
    "    if len(resultados) > 1:\n",
    "        # Calcular a média\n",
    "        media = sum(resultados) / len(resultados)\n",
    "        \n",
    "        # Calcular a variância (usando a fórmula da variância amostral)\n",
    "        variancia = sum((x - media) ** 2 for x in resultados) / (len(resultados) - 1)  # ddof=1 para variância amostral\n",
    "        \n",
    "        # Calcular a variância dividida pelo tamanho da lista\n",
    "        variancia_media = variancia / len(resultados)\n",
    "        \n",
    "        # Calcular o Beta\n",
    "        beta = (variancia_media ** 0.5) / media \n",
    "        return media, variancia, beta\n",
    "    else:\n",
    "        return 10, 10, 10\n"
   ]
  },
  {
   "cell_type": "markdown",
   "metadata": {},
   "source": [
    "## ALGORITMO PRINCIPAL MCS"
   ]
  },
  {
   "cell_type": "code",
   "execution_count": 6,
   "metadata": {},
   "outputs": [],
   "source": [
    "#Parâmetros principais:\n",
    "tol = 0.01 #Tolerância para  o critério de parada\n",
    "NY_MAX = 100 #Máximo número de anos para simular\n",
    "NY = 0 #Contador de anos\n",
    "convergiu = False\n",
    "beta = 10\n",
    "\n",
    "#Vetores que armazenam os resultados de cada ano simulado\n",
    "resultados_LOLP = []\n",
    "resultados_LOLE = []\n",
    "resultados_EPNS = []\n",
    "resultados_EENS = []\n",
    "resultados_LOLF = []\n",
    "resultados_LOLD = []"
   ]
  },
  {
   "cell_type": "code",
   "execution_count": null,
   "metadata": {},
   "outputs": [],
   "source": [
    "while not convergiu:\n",
    "    NY += 1\n",
    "    # Reinicializar estados dos componentes no início de cada ano\n",
    "    estados_geradores = np.ones(Ng, dtype=int)\n",
    "    estados_linhas = np.ones(Nl, dtype=int)\n",
    "\n",
    "    # Sorteio dos tempos de residência para todos os componentes\n",
    "    TG = [sortear_tempo_residencia(D_GEN.iloc[k]['Lambda']) for k in range(Ng)]\n",
    "    TL = [sortear_tempo_residencia(D_LIN.iloc[k]['Lambda']) for k in range(Nl)]\n",
    "\n",
    "    # Passo e: Inicialização de variáveis no início do ano\n",
    "    TSIS = 0\n",
    "    horas_com_corte = 0\n",
    "    energia_nao_suprida = 0\n",
    "    eventos_corte = 0\n",
    "    F_LOLE = 0\n",
    "    F_EENS = 0\n",
    "    F_LOLF = 0\n",
    "\n",
    "    while TSIS < 8760:\n",
    "        # Passo f: Identificar o componente com menor TG ou TL\n",
    "        menor_TG = min(TG)\n",
    "        menor_TL = min(TL)\n",
    "\n",
    "        if menor_TG < menor_TL:\n",
    "            i = np.argmin(TG)\n",
    "            TGi = menor_TG\n",
    "            componente = 'gerador'\n",
    "            if estados_geradores[i] == 1:\n",
    "                estados_geradores[i] = 0\n",
    "            else:\n",
    "                estados_geradores[i] = 1\n",
    "        else:\n",
    "            i = np.argmin(TL)\n",
    "            TGi = menor_TL\n",
    "            componente = 'linha'\n",
    "            if estados_linhas[i] == 1:\n",
    "                estados_linhas[i] = 0\n",
    "            else:\n",
    "                estados_linhas[i] = 1\n",
    "\n",
    "        # Passo g: Ajustar TG ou TL se maior que 8760 (1 ano)\n",
    "        if TGi > 8760:\n",
    "            TGi = 8760\n",
    "\n",
    "        # Passo h: Calcular TDUR e atualizar TSIS\n",
    "        TDUR = TGi - TSIS\n",
    "        TSIS = TGi\n",
    "\n",
    "        z_ger = estados_geradores\n",
    "        z_lin = estados_linhas\n",
    "        corte_carga = calcular_fpo(z_ger, z_lin, False) #Calcula quantos MW foram cortados com a configuração de componentes atual\n",
    "\n",
    "        if corte_carga > 0:\n",
    "            horas_com_corte += TDUR\n",
    "            energia_nao_suprida += corte_carga * TDUR\n",
    "            eventos_corte += 1\n",
    "\n",
    "        #Passo j (vem antes do passo i): Sorteio de novo TR para i e atualização de TG\n",
    "        if componente == 'gerador':\n",
    "            if estados_geradores[i] == 1:\n",
    "                TR = sortear_tempo_residencia(D_GEN.iloc[i]['Lambda'])\n",
    "            else:\n",
    "                TR = sortear_tempo_residencia(D_GEN.iloc[i]['mu'])\n",
    "            TG[i] = TGi + TR\n",
    "        else:\n",
    "            if estados_linhas[i] == 1:\n",
    "                TR = sortear_tempo_residencia(D_LIN.iloc[i]['Lambda'])\n",
    "            else:\n",
    "                TR = sortear_tempo_residencia(D_LIN.iloc[i]['mu'])\n",
    "            TL[i] = TGi + TR \n",
    "\n",
    "    #Cálculo dos índices anuais\n",
    "    LOLP = horas_com_corte/8760\n",
    "    LOLE = horas_com_corte\n",
    "    EPNS = energia_nao_suprida/8760\n",
    "    EENS = energia_nao_suprida\n",
    "    LOLF = eventos_corte\n",
    "    LOLD = LOLE / eventos_corte if eventos_corte > 0 else 0\n",
    "\n",
    "    # Armazenar resultados anuais em vetores\n",
    "    resultados_LOLP.append(LOLP)\n",
    "    resultados_LOLE.append(LOLE)\n",
    "    resultados_EPNS.append(EPNS)\n",
    "    resultados_EENS.append(EENS)\n",
    "    resultados_LOLF.append(LOLF)\n",
    "    resultados_LOLD.append(LOLD)\n",
    "    \n",
    "    if NY > 2:\n",
    "        # Cálculo dos índices estimados e seus coeficientes de convergência\n",
    "        media_LOLP, var_LOLP, beta_LOLP = calcular_estatisticas(resultados_LOLP)\n",
    "        media_LOLE, var_LOLE, beta_LOLE = calcular_estatisticas(resultados_LOLE)\n",
    "        media_EPNS, var_EPNS, beta_EPNS = calcular_estatisticas(resultados_EPNS)\n",
    "        media_EENS, var_EENS, beta_EENS = calcular_estatisticas(resultados_EENS)\n",
    "        media_LOLF, var_LOLF, beta_LOLF = calcular_estatisticas(resultados_LOLF)\n",
    "        media_LOLD, var_LOLD, beta_LOLD = calcular_estatisticas(resultados_LOLD)\n",
    "        # Armazenar os betas em um vetor e seleciona o maior:\n",
    "        beta = max([beta_LOLP, beta_EPNS])\n",
    "    if beta < tol or NY > NY_MAX:\n",
    "        convergiu = True"
   ]
  },
  {
   "cell_type": "code",
   "execution_count": 17,
   "metadata": {},
   "outputs": [
    {
     "name": "stdout",
     "output_type": "stream",
     "text": [
      "Expected Energy Not Supplied (EENS): (161.19 ± 5.393) GWh/ano\n",
      "Expected Power Not Supplied (EPNS): (18.40 ± 0.616) MW\n",
      "Loss of Load Duration (LOLD): (28.52 ± 0.551) horas/eventos de corte\n",
      "Loss of Load Expectation (LOLE): (1584.40 ± 35.185) horas/ano\n",
      "Loss of Load Probability (LOLP): (18.09 ± 0.402) %\n",
      "Loss of Load Frequency (LOLF): (56.36 ± 1.150) eventos de corte/ano\n"
     ]
    }
   ],
   "source": [
    "#Cálculo do desvio padrão da média dos índices de confiabilidade:\n",
    "std_LOLP = np.std(resultados_LOLP)\n",
    "stdd_LOLE = np.std(resultados_LOLE)\n",
    "std_LOLF = np.std(resultados_LOLF)\n",
    "std_EENS = np.std(resultados_EENS)\n",
    "std_EPNS = np.std(resultados_EPNS)\n",
    "std_LOLD = np.std(resultados_LOLD)\n",
    "\n",
    "#Cálculo do erro padrão da média dos índices de confiabilidade:\n",
    "erro_padrao_LOLP = std_LOLP / np.sqrt(NY)\n",
    "erro_padrao_LOLE = stdd_LOLE / np.sqrt(NY)\n",
    "erro_padrao_LOLF = std_LOLF / np.sqrt(NY)\n",
    "erro_padrao_EENS = std_EENS / np.sqrt(NY)\n",
    "erro_padrao_EPNS = std_EPNS / np.sqrt(NY)\n",
    "erro_padrao_LOLD = std_LOLD / np.sqrt(NY)\n",
    "\n",
    "# Print dos Resultados:\n",
    "print(f\"Expected Energy Not Supplied (EENS): ({media_EENS/1000:.2f} ± {erro_padrao_EENS/1000:.3f}) GWh/ano\")\n",
    "print(f\"Expected Power Not Supplied (EPNS): ({media_EPNS:.2f} ± {erro_padrao_EPNS:.3f}) MW\")\n",
    "print(f\"Loss of Load Duration (LOLD): ({media_LOLD:.2f} ± {erro_padrao_LOLD:.3f}) horas/eventos de corte\")\n",
    "print(f\"Loss of Load Expectation (LOLE): ({media_LOLE:.2f} ± {erro_padrao_LOLE:.3f}) horas/ano\")\n",
    "print(f\"Loss of Load Probability (LOLP): ({media_LOLP*100:.2f} ± {erro_padrao_LOLP*100:.3f}) %\")\n",
    "print(f\"Loss of Load Frequency (LOLF): ({media_LOLF:.2f} ± {erro_padrao_LOLF:.3f}) eventos de corte/ano\")"
   ]
  }
 ],
 "metadata": {
  "kernelspec": {
   "display_name": ".venv",
   "language": "python",
   "name": "python3"
  },
  "language_info": {
   "codemirror_mode": {
    "name": "ipython",
    "version": 3
   },
   "file_extension": ".py",
   "mimetype": "text/x-python",
   "name": "python",
   "nbconvert_exporter": "python",
   "pygments_lexer": "ipython3",
   "version": "3.13.0"
  }
 },
 "nbformat": 4,
 "nbformat_minor": 2
}
