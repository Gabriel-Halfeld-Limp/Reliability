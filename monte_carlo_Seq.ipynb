{
 "cells": [
  {
   "cell_type": "markdown",
   "metadata": {},
   "source": [
    "# MONTE CARLO SEQUENCIAL"
   ]
  },
  {
   "cell_type": "markdown",
   "metadata": {},
   "source": [
    "## IMPORTAÇÃO DE BIBLIOTECAS"
   ]
  },
  {
   "cell_type": "code",
   "execution_count": 14,
   "metadata": {},
   "outputs": [],
   "source": [
    "from pyomo.environ import *\n",
    "import pandas as pd\n",
    "import numpy as np\n",
    "from data_processing import load_all_data\n",
    "from calcula_fpo import calcular_fpo"
   ]
  },
  {
   "cell_type": "markdown",
   "metadata": {},
   "source": [
    "## LEITURA DE DADOS"
   ]
  },
  {
   "cell_type": "code",
   "execution_count": 5,
   "metadata": {},
   "outputs": [],
   "source": [
    "data = load_all_data()\n",
    "D_GEN = data['D_GEN']\n",
    "D_LIN = data['D_LIN']\n",
    "D_LOAD = data['D_LOAD']\n"
   ]
  },
  {
   "cell_type": "code",
   "execution_count": 6,
   "metadata": {},
   "outputs": [],
   "source": [
    "#Deixando os dados em horas e nos formatos conhecidos\n",
    "D_GEN['Lambda'] = D_GEN['Falhas/ano'] / 8760 # 8760 horas em um ano\n",
    "D_GEN['MTTF'] = 1/D_GEN['Lambda'] #Tempo médio entre falhas\n",
    "D_GEN['mu'] = 1/D_GEN['Tempo de reparo(h)'] #Taxa de reparo/hora\n",
    "D_GEN['A'] = D_GEN['mu']/(D_GEN['mu'] + D_GEN['Lambda']) #Disponibilidade\n",
    "D_GEN['U'] = 1 - D_GEN['A'] #Indisponibilidade"
   ]
  },
  {
   "cell_type": "code",
   "execution_count": 8,
   "metadata": {},
   "outputs": [],
   "source": [
    "D_LIN['Lambda'] = D_LIN['Falhas/(ano.milha)'] * D_LIN['Comprimento'] / 8760\n",
    "D_LIN['MTTF'] = 1 / D_LIN['Lambda']\n",
    "D_LIN['mu'] = 1 / D_LIN['Tempo de Reparo'] #Taxa de reparo/hora\n",
    "D_LIN['A'] = D_LIN['mu'] / (D_LIN['mu'] + D_LIN['Lambda']) #Disponibilidade\n",
    "D_LIN['U'] = 1 - D_LIN['A'] #Indisponibilidade"
   ]
  },
  {
   "cell_type": "code",
   "execution_count": 9,
   "metadata": {},
   "outputs": [],
   "source": [
    "Ng = len(D_GEN)\n",
    "geradores = np.arange(1,Ng+1)\n",
    "Nl = len(D_LIN)\n",
    "linhas = np.arange(1,Nl+1)\n",
    "Nc = len(D_LOAD)\n",
    "cargas = np.arange(1,Nc+1)"
   ]
  },
  {
   "cell_type": "code",
   "execution_count": 12,
   "metadata": {},
   "outputs": [],
   "source": [
    "#Funções Auxiliares:\n",
    "def sortear_tempo_falha(mttf):\n",
    "    return np.random.exponential(mttf)\n",
    "\n",
    "def sortear_tempo_reparo(mttr):\n",
    "    return np.random.exponential(mttr)\n",
    "\n",
    "def inicializar_componentes(D_GEN, D_LIN):\n",
    "    # Inicializar componentes, 1=operando, 0=falha\n",
    "    estados_ger = np.ones(len(D_GEN))\n",
    "    estados_lin = np.ones(len(D_LIN))\n",
    "\n",
    "    #Sortear o tempo de falha para cada componente\n",
    "    tempos_gen = [sortear_tempo_falha(mttf) for mttf in D_GEN['MTTF']]\n",
    "    tempos_lin = [sortear_tempo_falha(mttf) for mttf in D_LIN['MTTF']]\n",
    "\n",
    "    return estados_ger, estados_lin, tempos_gen, tempos_lin\n"
   ]
  },
  {
   "cell_type": "code",
   "execution_count": 13,
   "metadata": {},
   "outputs": [],
   "source": [
    "#Parâmetros principais:\n",
    "tol = 0.01 #Tolerância para  o critério de parada\n",
    "NY_MAX = 100 #Máximo número de anos para simular\n",
    "NY = 0 #Contador de anos\n",
    "\n",
    "#Inicializando Índices\n",
    "F_LOLE = 0\n",
    "F_EENS = 0\n",
    "F_LOLF = 0\n",
    "F_LOLD = 0"
   ]
  },
  {
   "cell_type": "code",
   "execution_count": null,
   "metadata": {},
   "outputs": [],
   "source": [
    "#Algoritmo de Monte Carlo Sequencial:\n",
    "while NY < NY_MAX:\n",
    "    NY = NY + 1\n",
    "    TSIS = 0 #Inicializa o tempo acumulado do sistema\n",
    "\n",
    "    #Inicializa os estados e tempos de residência:\n",
    "    estados_gen, estados_lin, tempos_gen, tempos_lin = inicializar_componentes(D_GEN, D_LIN)\n",
    "    TG = tempos_gen + tempos_lin  # Tempos globais de residência (falha ou reparo)\n",
    "\n",
    "    while TSIS < 8760:\n",
    "        # Determina o componente com o menor tempo de residência (falha ou recuperação)\n",
    "        TGi = min(TG)\n",
    "        if TGi > 8760:\n",
    "            TGi = 8760\n",
    "        \n",
    "        TDUR = TGi - TSIS # Tempo de duração do estado atual\n",
    "        TSIS = TGi # Atualiza o tempo acumulado do sistema\n",
    "\n",
    "        #Atualiza o impacto do estado atual nos índies de confiabilidade\n",
    "        z_ger = estados_gen\n",
    "        z_lin =  estados_lin\n",
    "\n",
    "        #Calcula o FPO\n",
    "        carga_cortada = calcular_fpo(z_ger, z_lin)\n",
    "\n",
    "        if carga_cortada > 0:\n",
    "            F_LOLE += TDUR #Tempo de perda de carga (LOLE)\n",
    "            F_EENS += carga_cortada * TDUR #Energia não fornecida (EENS)\n",
    "            F_LOLF += 1 #Frequência de corte de carga (LOLF)\n",
    "        \n",
    "        \n",
    "\n"
   ]
  },
  {
   "cell_type": "code",
   "execution_count": null,
   "metadata": {},
   "outputs": [],
   "source": [
    "####Definir os Z's de acordo com o problema!"
   ]
  }
 ],
 "metadata": {
  "kernelspec": {
   "display_name": ".venv",
   "language": "python",
   "name": "python3"
  },
  "language_info": {
   "codemirror_mode": {
    "name": "ipython",
    "version": 3
   },
   "file_extension": ".py",
   "mimetype": "text/x-python",
   "name": "python",
   "nbconvert_exporter": "python",
   "pygments_lexer": "ipython3",
   "version": "3.13.0"
  }
 },
 "nbformat": 4,
 "nbformat_minor": 2
}
