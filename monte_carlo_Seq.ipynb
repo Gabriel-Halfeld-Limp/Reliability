{
 "cells": [
  {
   "cell_type": "markdown",
   "metadata": {},
   "source": [
    "# MONTE CARLO SEQUENCIAL"
   ]
  },
  {
   "cell_type": "markdown",
   "metadata": {},
   "source": [
    "## IMPORTAÇÃO DE BIBLIOTECAS\n",
    "\n",
    "Nesta seção, são importadas as bibliotecas necessárias para a realização das análises de confiabilidade. As principais bibliotecas utilizadas são:\n",
    "\n",
    "- `Pyomo`: Para modelagem e solução de problemas de otimização.\n",
    "- `pandas` (`pd`): Para manipulação e análise de dados tabulares.\n",
    "- `numpy` (`np`): Para operações matemáticas e computacionais.\n",
    "- `data_processing`: Um módulo personalizado para carregar os dados do sistema.\n",
    "- `calcula_fpo`: Um módulo personalizado para calcular os fluxos de potência.\n",
    "\n",
    "As bibliotecas externas são carregadas utilizando comandos `import`, enquanto os módulos customizados (localizados no diretório do projeto) são carregados diretamente."
   ]
  },
  {
   "cell_type": "code",
   "execution_count": 1,
   "metadata": {},
   "outputs": [
    {
     "name": "stdout",
     "output_type": "stream",
     "text": [
      "0.0\n"
     ]
    }
   ],
   "source": [
    "from pyomo.environ import *\n",
    "import pandas as pd\n",
    "import numpy as np\n",
    "from data_processing import load_all_data\n",
    "from calcula_fpo import calcular_fpo"
   ]
  },
  {
   "cell_type": "markdown",
   "metadata": {},
   "source": [
    "## LEITURA E PROCESSAMENTO DOS DADOS\n",
    "Nesta seção, os dados necessários para a análise de confiabilidade são carregados e processados. A estrutura geral envolve:\n",
    "\n",
    "- **`D_GEN`**: Dados relacionados aos geradores, incluindo taxas de falha, tempo de reparo e disponibilidade.\n",
    "- **`D_LIN`**: Dados das linhas de transmissão, considerando falhas por milha, comprimento das linhas e tempo de reparo.\n",
    "- **`D_LOAD`**: Informações sobre as cargas no sistema.\n",
    "\n",
    "Os dados carregados são normalizados para uso em análises temporais e de confiabilidade, incluindo a conversão de tempos e taxas para a escala de horas. Além disso, são calculados os seguintes índices para geradores e linhas:\n",
    "\n",
    "1. **Taxa de Falha** (`Lambda`): Número de falhas por hora.\n",
    "2. **Tempo Médio Entre Falhas** (`MTTF`): Calculado como o inverso de `Lambda`.\n",
    "3. **Taxa de Reparo** (`mu`): Inverso do tempo de reparo.\n",
    "4. **Disponibilidade** (`A`): Probabilidade de o componente estar disponível.\n",
    "5. **Indisponibilidade** (`U`): Complemento da disponibilidade (`1 - A`).\n",
    "\n",
    "Os dados normalizados permitem o cálculo dos índices de confiabilidade."
   ]
  },
  {
   "cell_type": "code",
   "execution_count": 3,
   "metadata": {},
   "outputs": [],
   "source": [
    "#Leitura dos dados (conferir \"data_processing.py\")\n",
    "data = load_all_data()\n",
    "D_GEN = data['D_GEN']\n",
    "D_LIN = data['D_LIN']\n",
    "D_LOAD = data['D_LOAD']"
   ]
  },
  {
   "cell_type": "code",
   "execution_count": 8,
   "metadata": {},
   "outputs": [],
   "source": [
    "#Deixando os dados em horas e nos formatos conhecidos\n",
    "#Dados de Geração\n",
    "D_GEN['Lambda'] = D_GEN['Falhas/ano'] / 8760 # 8760 horas em um ano\n",
    "D_GEN['MTTF'] = 1/D_GEN['Lambda'] #Tempo médio entre falhas\n",
    "D_GEN['mu'] = 1/D_GEN['Tempo de reparo(h)'] #Taxa de reparo/hora\n",
    "D_GEN['A'] = D_GEN['mu']/(D_GEN['mu'] + D_GEN['Lambda']) #Disponibilidade\n",
    "D_GEN['U'] = 1 - D_GEN['A'] #Indisponibilidade\n",
    "\n",
    "#Dados de Linha\n",
    "D_LIN['Lambda'] = D_LIN['Falhas/(ano.milha)'] * D_LIN['Comprimento'] / 8760 # 8760 horas em um ano\n",
    "D_LIN['MTTF'] = 1 / D_LIN['Lambda'] #Tempo médio entre falhas\n",
    "D_LIN['mu'] = 1 / D_LIN['Tempo de Reparo'] #Taxa de reparo/hora\n",
    "D_LIN['A'] = D_LIN['mu'] / (D_LIN['mu'] + D_LIN['Lambda']) #Disponibilidade\n",
    "D_LIN['U'] = 1 - D_LIN['A'] #Indisponibilidade\n",
    "\n",
    "#Numero de componentes\n",
    "Ng = len(D_GEN)\n",
    "Nl = len(D_LIN)\n",
    "Nc = len(D_LOAD)"
   ]
  },
  {
   "cell_type": "markdown",
   "metadata": {},
   "source": [
    "## FUNÇÕES AUXILIARES\n",
    "Nesta seção, são definidas as funções auxiliares que serão utilizadas ao longo do notebook para cálculos específicos. Estas incluem:\n",
    "\n",
    "1. **Cálculo do Tempo de Residência (`TR`)**:\n",
    "   - Realiza o sorteio do tempo de residência de um componente com base na taxa fornecida.\n",
    "   - Utiliza a distribuição exponencial, que é típica em análises de confiabilidade.\n",
    "\n",
    "2. **Cálculo de Estatísticas**:\n",
    "   - Função para calcular a média, variância e o coeficiente Beta de um conjunto de resultados.\n",
    "   - Esses valores são úteis para análises estatísticas e avaliação da incerteza dos índices de confiabilidade.\n"
   ]
  },
  {
   "cell_type": "code",
   "execution_count": 9,
   "metadata": {},
   "outputs": [],
   "source": [
    "# Função de cálculo do tempo de residência (TR)\n",
    "def sortear_tempo_residencia(taxa):\n",
    "    return float(np.random.exponential(1 / taxa))\n",
    "\n",
    "def calcular_estatisticas(resultados):\n",
    "    if len(resultados) > 1:\n",
    "        # Calcular a média\n",
    "        media = sum(resultados) / len(resultados)\n",
    "        \n",
    "        # Calcular a variância (usando a fórmula da variância amostral)\n",
    "        variancia = sum((x - media) ** 2 for x in resultados) / (len(resultados) - 1)  # ddof=1 para variância amostral\n",
    "        \n",
    "        # Calcular a variância dividida pelo tamanho da lista\n",
    "        variancia_media = variancia / len(resultados)\n",
    "        \n",
    "        # Calcular o Beta\n",
    "        beta = (variancia_media ** 0.5) / media \n",
    "        return media, variancia, beta\n",
    "    else:\n",
    "        return 10, 10, 10\n"
   ]
  },
  {
   "cell_type": "markdown",
   "metadata": {},
   "source": [
    "## ALGORITMO PRINCIPAL SMC - SEQUENCIAL\n",
    "O algoritmo de Monte Carlo Sequencial (SMC) é utilizado para realizar simulações anuais do sistema e calcular os índices de confiabilidade, como LOLP, LOLE, EPNS, EENS, LOLF e LOLD. Os passos principais são:\n",
    "\n",
    "1. **Configuração Inicial**:\n",
    "   - Definir tolerância para o critério de parada (`tol`) e o número máximo de anos (`NY_MAX`).\n",
    "   - Inicializar variáveis de contagem de anos, estados dos componentes e vetores para armazenar resultados.\n",
    "\n",
    "2. **Iteração Anual**:\n",
    "   - Simular o estado dos componentes geradores e linhas de transmissão ao longo do ano.\n",
    "   - Atualizar tempos de residência (`TR`) com base nas taxas de falha e reparo dos componentes.\n",
    "   - Identificar cortes de carga e calcular índices de confiabilidade para cada ano.\n",
    "\n",
    "3. **Convergência**:\n",
    "   - Avaliar os índices médios e o coeficiente Beta para verificar se os resultados satisfazem o critério de convergência.\n",
    "\n",
    "O fluxo é executado até que a tolerância seja atingida ou o número máximo de anos seja alcançado."
   ]
  },
  {
   "cell_type": "code",
   "execution_count": 6,
   "metadata": {},
   "outputs": [],
   "source": [
    "#Passo a: Tolerância (tol) e número máximo de anos (NYMAX)\n",
    "tol = 0.01 #Tolerância para  o critério de parada\n",
    "NY_MAX = 100 #Máximo número de anos para simular\n",
    "\n",
    "#Passo b: Número de anos igual a zero → NY = 0\n",
    "NY = 0 #Contador de anos\n",
    "\n",
    "#Inicialização das variáveis:\n",
    "beta = 10\n",
    "\n",
    "#Vetores que armazenam os resultados de cada ano simulado\n",
    "resultados_LOLP = []\n",
    "resultados_LOLE = []\n",
    "resultados_EPNS = []\n",
    "resultados_EENS = []\n",
    "resultados_LOLF = []\n",
    "resultados_LOLD = []"
   ]
  },
  {
   "cell_type": "code",
   "execution_count": null,
   "metadata": {},
   "outputs": [],
   "source": [
    "while beta < tol or NY < NY_MAX:\n",
    "    NY += 1\n",
    "    # Reinicializar estados dos componentes no início de cada ano\n",
    "    estados_geradores = np.ones(Ng, dtype=int)\n",
    "    estados_linhas = np.ones(Nl, dtype=int)\n",
    "\n",
    "    # Passo c: Sorteio do 1º tempo de residência (TR)\n",
    "    TG = [sortear_tempo_residencia(D_GEN.iloc[k]['Lambda']) for k in range(Ng)]\n",
    "    TL = [sortear_tempo_residencia(D_LIN.iloc[k]['Lambda']) for k in range(Nl)]\n",
    "\n",
    "    # Passo e: Inicialização de variáveis no início do ano\n",
    "    TSIS = 0\n",
    "    horas_com_corte = 0\n",
    "    energia_nao_suprida = 0\n",
    "    eventos_corte = 0\n",
    "\n",
    "    while TSIS < 8760:\n",
    "        # Passo f: Identificar o componente com menor TG ou TL\n",
    "        menor_TG = min(TG)\n",
    "        menor_TL = min(TL)\n",
    "\n",
    "        if menor_TG < menor_TL:\n",
    "            i = np.argmin(TG)\n",
    "            TGi = menor_TG\n",
    "            componente = 'gerador'\n",
    "            if estados_geradores[i] == 1:\n",
    "                estados_geradores[i] = 0\n",
    "            else:\n",
    "                estados_geradores[i] = 1\n",
    "        else:\n",
    "            i = np.argmin(TL)\n",
    "            TGi = menor_TL\n",
    "            componente = 'linha'\n",
    "            if estados_linhas[i] == 1:\n",
    "                estados_linhas[i] = 0\n",
    "            else:\n",
    "                estados_linhas[i] = 1\n",
    "\n",
    "        # Passo g: Ajustar TG ou TL se maior que 8760 (1 ano)\n",
    "        if TGi > 8760:\n",
    "            TGi = 8760\n",
    "\n",
    "        # Passo h: Calcular TDUR e atualizar TSIS\n",
    "        TDUR = TGi - TSIS\n",
    "        TSIS = TGi\n",
    "\n",
    "        #Calcula o corte de carga para a configuração atual de componentes:\n",
    "        z_ger = estados_geradores\n",
    "        z_lin = estados_linhas\n",
    "        corte_carga = calcular_fpo(z_ger, z_lin, False)\n",
    "\n",
    "        if corte_carga > 0:\n",
    "            horas_com_corte += TDUR\n",
    "            energia_nao_suprida += corte_carga * TDUR\n",
    "            eventos_corte += 1\n",
    "\n",
    "        #Passo j (vem antes do passo i): Sorteio de novo TR para i e atualização de TG\n",
    "        if componente == 'gerador':\n",
    "            if estados_geradores[i] == 1:\n",
    "                TR = sortear_tempo_residencia(D_GEN.iloc[i]['Lambda'])\n",
    "            else:\n",
    "                TR = sortear_tempo_residencia(D_GEN.iloc[i]['mu'])\n",
    "            TG[i] = TGi + TR\n",
    "        else:\n",
    "            if estados_linhas[i] == 1:\n",
    "                TR = sortear_tempo_residencia(D_LIN.iloc[i]['Lambda'])\n",
    "            else:\n",
    "                TR = sortear_tempo_residencia(D_LIN.iloc[i]['mu'])\n",
    "            TL[i] = TGi + TR \n",
    "\n",
    "    #Passo i: Atualização de cada função teste\n",
    "    LOLP = horas_com_corte/8760\n",
    "    LOLE = horas_com_corte\n",
    "    EPNS = energia_nao_suprida/8760\n",
    "    EENS = energia_nao_suprida\n",
    "    LOLF = eventos_corte\n",
    "    LOLD = LOLE / eventos_corte if eventos_corte > 0 else 0\n",
    "\n",
    "    # Armazenar resultados anuais em vetores\n",
    "    resultados_LOLP.append(LOLP)\n",
    "    resultados_LOLE.append(LOLE)\n",
    "    resultados_EPNS.append(EPNS)\n",
    "    resultados_EENS.append(EENS)\n",
    "    resultados_LOLF.append(LOLF)\n",
    "    resultados_LOLD.append(LOLD)\n",
    "    \n",
    "    # Passo k: Verificar convergência\n",
    "    if NY > 2:\n",
    "        # Cálculo dos índices medios, beta e variância\n",
    "        media_LOLP, var_LOLP, beta_LOLP = calcular_estatisticas(resultados_LOLP)\n",
    "        media_LOLE, var_LOLE, beta_LOLE = calcular_estatisticas(resultados_LOLE)\n",
    "        media_EPNS, var_EPNS, beta_EPNS = calcular_estatisticas(resultados_EPNS)\n",
    "        media_EENS, var_EENS, beta_EENS = calcular_estatisticas(resultados_EENS)\n",
    "        media_LOLF, var_LOLF, beta_LOLF = calcular_estatisticas(resultados_LOLF)\n",
    "        media_LOLD, var_LOLD, beta_LOLD = calcular_estatisticas(resultados_LOLD)\n",
    "        # Armazenar os betas em um vetor e seleciona o maior:\n",
    "        beta = max([beta_LOLP, beta_EPNS])"
   ]
  },
  {
   "cell_type": "markdown",
   "metadata": {},
   "source": [
    "## RESULTADOS\n",
    "Nesta etapa, os índices de confiabilidade médios, desvio padrão da média e erro padrão da média foram calculados para cada um dos índices de confiabilidade a seguir:\n",
    "O erro padrão da média (EPM) é a medida correta a ser usada em simulações amostrais, pois ele quantifica a variabilidade das médias amostrais em relação à verdadeira média da população. Embora o desvio padrão também seja importante, ele reflete a dispersão dos dados individuais, não das médias.\n",
    "\n",
    "- **LOLP (Loss of Load Probability)**: Desvio padrão da probabilidade de perda de carga.\n",
    "- **LOLE (Loss of Load Expectation)**: Desvio padrão da expectativa de perda de carga.\n",
    "- **LOLF (Loss of Load Frequency)**: Desvio padrão da frequência de eventos de perda de carga.\n",
    "- **EENS (Expected Energy Not Supplied)**: Desvio padrão da energia não fornecida esperada.\n",
    "- **EPNS (Expected Power Not Supplied)**: Desvio padrão da potência não fornecida esperada.\n",
    "- **LOLD (Loss of Load Duration)**: Desvio padrão da duração de eventos de perda de carga.\n"
   ]
  },
  {
   "cell_type": "code",
   "execution_count": 17,
   "metadata": {},
   "outputs": [
    {
     "name": "stdout",
     "output_type": "stream",
     "text": [
      "Expected Energy Not Supplied (EENS): (161.19 ± 5.393) GWh/ano\n",
      "Expected Power Not Supplied (EPNS): (18.40 ± 0.616) MW\n",
      "Loss of Load Duration (LOLD): (28.52 ± 0.551) horas/eventos de corte\n",
      "Loss of Load Expectation (LOLE): (1584.40 ± 35.185) horas/ano\n",
      "Loss of Load Probability (LOLP): (18.09 ± 0.402) %\n",
      "Loss of Load Frequency (LOLF): (56.36 ± 1.150) eventos de corte/ano\n"
     ]
    }
   ],
   "source": [
    "#Cálculo do desvio padrão da média dos índices de confiabilidade:\n",
    "std_LOLP = np.std(resultados_LOLP)\n",
    "stdd_LOLE = np.std(resultados_LOLE)\n",
    "std_LOLF = np.std(resultados_LOLF)\n",
    "std_EENS = np.std(resultados_EENS)\n",
    "std_EPNS = np.std(resultados_EPNS)\n",
    "std_LOLD = np.std(resultados_LOLD)\n",
    "\n",
    "#Cálculo do erro padrão da média dos índices de confiabilidade:\n",
    "erro_padrao_LOLP = std_LOLP / np.sqrt(NY)\n",
    "erro_padrao_LOLE = stdd_LOLE / np.sqrt(NY)\n",
    "erro_padrao_LOLF = std_LOLF / np.sqrt(NY)\n",
    "erro_padrao_EENS = std_EENS / np.sqrt(NY)\n",
    "erro_padrao_EPNS = std_EPNS / np.sqrt(NY)\n",
    "erro_padrao_LOLD = std_LOLD / np.sqrt(NY)\n",
    "\n",
    "# Print dos Resultados:\n",
    "print(f\"Expected Energy Not Supplied (EENS): ({media_EENS/1000:.2f} ± {erro_padrao_EENS/1000:.3f}) GWh/ano\")\n",
    "print(f\"Expected Power Not Supplied (EPNS): ({media_EPNS:.2f} ± {erro_padrao_EPNS:.3f}) MW\")\n",
    "print(f\"Loss of Load Duration (LOLD): ({media_LOLD:.2f} ± {erro_padrao_LOLD:.3f}) horas/eventos de corte\")\n",
    "print(f\"Loss of Load Expectation (LOLE): ({media_LOLE:.2f} ± {erro_padrao_LOLE:.3f}) horas/ano\")\n",
    "print(f\"Loss of Load Probability (LOLP): ({media_LOLP*100:.2f} ± {erro_padrao_LOLP*100:.3f}) %\")\n",
    "print(f\"Loss of Load Frequency (LOLF): ({media_LOLF:.2f} ± {erro_padrao_LOLF:.3f}) eventos de corte/ano\")"
   ]
  }
 ],
 "metadata": {
  "kernelspec": {
   "display_name": ".venv",
   "language": "python",
   "name": "python3"
  },
  "language_info": {
   "codemirror_mode": {
    "name": "ipython",
    "version": 3
   },
   "file_extension": ".py",
   "mimetype": "text/x-python",
   "name": "python",
   "nbconvert_exporter": "python",
   "pygments_lexer": "ipython3",
   "version": "3.13.0"
  }
 },
 "nbformat": 4,
 "nbformat_minor": 2
}
